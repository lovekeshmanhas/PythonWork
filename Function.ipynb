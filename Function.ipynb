{
 "cells": [
  {
   "cell_type": "code",
   "execution_count": 2,
   "id": "83538d2d",
   "metadata": {},
   "outputs": [
    {
     "name": "stdout",
     "output_type": "stream",
     "text": [
      "Hello Good Morning\n"
     ]
    }
   ],
   "source": [
    "def helloTest():\n",
    "    print(\"Hello Good Morning\")\n",
    "helloTest()"
   ]
  },
  {
   "cell_type": "code",
   "execution_count": 4,
   "id": "2af6b675",
   "metadata": {},
   "outputs": [
    {
     "name": "stdout",
     "output_type": "stream",
     "text": [
      "Hello Anand  Good Morning\n"
     ]
    }
   ],
   "source": [
    "def helloPass(name):\n",
    "    print(\"Hello\",name,\" Good Morning\")\n",
    "helloPass(\"Anand\")"
   ]
  },
  {
   "cell_type": "code",
   "execution_count": 5,
   "id": "680908f3",
   "metadata": {},
   "outputs": [
    {
     "name": "stdout",
     "output_type": "stream",
     "text": [
      "The square of  4 is 16\n",
      "The square of  8 is 64\n"
     ]
    }
   ],
   "source": [
    "def squareNumber(number):\n",
    "    print(\"The square of \", number, \"is\", number*number)\n",
    "squareNumber(4)\n",
    "squareNumber(8)"
   ]
  },
  {
   "cell_type": "code",
   "execution_count": 6,
   "id": "4ae7d197",
   "metadata": {},
   "outputs": [
    {
     "name": "stdout",
     "output_type": "stream",
     "text": [
      "25\n"
     ]
    }
   ],
   "source": [
    "def squareNum(number):\n",
    "    result = number * number\n",
    "    return result\n",
    "resultOfNum = squareNum(5)\n",
    "print(resultOfNum)"
   ]
  },
  {
   "cell_type": "code",
   "execution_count": 7,
   "id": "591390d9",
   "metadata": {},
   "outputs": [],
   "source": [
    "# Write a function to accept 2 numbers as input and return Sum\n",
    "# Write a function to check whether the given number is even or odd?\n",
    "# Write a function to find factorial of given number"
   ]
  },
  {
   "cell_type": "code",
   "execution_count": 8,
   "id": "4f5c9b69",
   "metadata": {},
   "outputs": [
    {
     "name": "stdout",
     "output_type": "stream",
     "text": [
      "Multiple:  200\n",
      "Division:  2.0\n"
     ]
    }
   ],
   "source": [
    "def mul_div(operand1, operand2):\n",
    "    mul = operand1*operand2\n",
    "    div = operand1/operand2\n",
    "    return mul, div\n",
    "m, d = mul_div(20,10)\n",
    "print(\"Multiple: \",m)\n",
    "print(\"Division: \",d)"
   ]
  },
  {
   "cell_type": "code",
   "execution_count": 9,
   "id": "ca981a68",
   "metadata": {},
   "outputs": [
    {
     "name": "stdout",
     "output_type": "stream",
     "text": [
      "Hello Pardeep Good Morning\n",
      "Hello Dyal Good Morning\n"
     ]
    }
   ],
   "source": [
    "def wish(name, msg):\n",
    "    print(\"Hello\", name, msg)\n",
    "wish(name=\"Pardeep\", msg=\"Good Morning\")\n",
    "wish(msg=\"Good Morning\", name = \"Dyal\")"
   ]
  },
  {
   "cell_type": "code",
   "execution_count": 10,
   "id": "5332b90c",
   "metadata": {},
   "outputs": [
    {
     "name": "stdout",
     "output_type": "stream",
     "text": [
      "Hello Anand  Good Morning\n",
      "Hello Guest  Good Morning\n"
     ]
    }
   ],
   "source": [
    "def helloPass2(name=\"Guest\"):\n",
    "    print(\"Hello\",name,\" Good Morning\")\n",
    "helloPass2(\"Anand\")\n",
    "helloPass2()"
   ]
  },
  {
   "cell_type": "code",
   "execution_count": 11,
   "id": "6193d198",
   "metadata": {},
   "outputs": [
    {
     "name": "stdout",
     "output_type": "stream",
     "text": [
      "Total Sum:  10\n",
      "Total Sum:  30\n",
      "Total Sum:  0\n"
     ]
    }
   ],
   "source": [
    "def add(*n):\n",
    "    total = 0\n",
    "    for n1 in n:\n",
    "        total = total+n1\n",
    "    print(\"Total Sum: \", total)\n",
    "\n",
    "add(10)\n",
    "add(10,20)\n",
    "add()"
   ]
  },
  {
   "cell_type": "code",
   "execution_count": null,
   "id": "14d4ad08",
   "metadata": {},
   "outputs": [],
   "source": []
  }
 ],
 "metadata": {
  "kernelspec": {
   "display_name": "Python 3 (ipykernel)",
   "language": "python",
   "name": "python3"
  },
  "language_info": {
   "codemirror_mode": {
    "name": "ipython",
    "version": 3
   },
   "file_extension": ".py",
   "mimetype": "text/x-python",
   "name": "python",
   "nbconvert_exporter": "python",
   "pygments_lexer": "ipython3",
   "version": "3.11.3"
  }
 },
 "nbformat": 4,
 "nbformat_minor": 5
}
