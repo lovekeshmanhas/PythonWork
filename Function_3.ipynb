{
 "cells": [
  {
   "cell_type": "code",
   "execution_count": 2,
   "id": "836b58c0",
   "metadata": {},
   "outputs": [
    {
     "name": "stdout",
     "output_type": "stream",
     "text": [
      "150\n"
     ]
    }
   ],
   "source": [
    "#reduce\n",
    "from functools import*\n",
    "lst1 = [10,20,30,40,50]\n",
    "result=reduce(lambda x,y:x+y,lst1)\n",
    "print(result)"
   ]
  },
  {
   "cell_type": "code",
   "execution_count": 4,
   "id": "c525eaf9",
   "metadata": {},
   "outputs": [
    {
     "name": "stdout",
     "output_type": "stream",
     "text": [
      "2048341646272\n",
      "2048341646272\n",
      "Program Language Name:  Java\n",
      "Program Language Name:  Python\n",
      "Program Language Name:  C#\n"
     ]
    }
   ],
   "source": [
    "# Function Alias\n",
    "def progLangName(progName):\n",
    "    print(\"Program Language Name: \",progName)\n",
    "\n",
    "techLangName = progLangName\n",
    "print(id(progLangName))\n",
    "print(id(techLangName))\n",
    "\n",
    "techLangName(\"Java\")\n",
    "progLangName(\"Python\")\n",
    "\n",
    "del progLangName\n",
    "techLangName(\"C#\")"
   ]
  },
  {
   "cell_type": "code",
   "execution_count": 5,
   "id": "64f25934",
   "metadata": {},
   "outputs": [
    {
     "name": "stdout",
     "output_type": "stream",
     "text": [
      "upper function started\n",
      "upper function is calling lower function\n",
      "lower function execution\n"
     ]
    }
   ],
   "source": [
    "#Nested Function:\n",
    "def upperFunc():\n",
    "    print(\"upper function started\")\n",
    "    def lowerFunc():\n",
    "        print(\"lower function execution\")\n",
    "    print(\"upper function is calling lower function\")\n",
    "    lowerFunc()\n",
    "upperFunc()"
   ]
  },
  {
   "cell_type": "code",
   "execution_count": 6,
   "id": "27dbc58b",
   "metadata": {},
   "outputs": [
    {
     "name": "stdout",
     "output_type": "stream",
     "text": [
      "30\n"
     ]
    }
   ],
   "source": [
    "def sum():\n",
    "    result = 10+20\n",
    "    return result\n",
    "total = sum()\n",
    "print(total)"
   ]
  },
  {
   "cell_type": "code",
   "execution_count": 7,
   "id": "27fde549",
   "metadata": {},
   "outputs": [
    {
     "name": "stdout",
     "output_type": "stream",
     "text": [
      "upper function started\n",
      "upper function is calling lower function\n",
      "lower function execution\n",
      "lower function execution\n"
     ]
    }
   ],
   "source": [
    "# Function can return another function\n",
    "def upperFunc1():\n",
    "    print(\"upper function started\")\n",
    "    def lowerFunc1():\n",
    "        print(\"lower function execution\")\n",
    "    print(\"upper function is calling lower function\")\n",
    "    return lowerFunc1\n",
    "f1 = upperFunc1()\n",
    "f1()\n",
    "f1()"
   ]
  },
  {
   "cell_type": "code",
   "execution_count": null,
   "id": "6b21aa84",
   "metadata": {},
   "outputs": [],
   "source": []
  }
 ],
 "metadata": {
  "kernelspec": {
   "display_name": "Python 3 (ipykernel)",
   "language": "python",
   "name": "python3"
  },
  "language_info": {
   "codemirror_mode": {
    "name": "ipython",
    "version": 3
   },
   "file_extension": ".py",
   "mimetype": "text/x-python",
   "name": "python",
   "nbconvert_exporter": "python",
   "pygments_lexer": "ipython3",
   "version": "3.11.3"
  }
 },
 "nbformat": 4,
 "nbformat_minor": 5
}
