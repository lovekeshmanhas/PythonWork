{
 "cells": [
  {
   "cell_type": "code",
   "execution_count": 3,
   "id": "f0acc31d",
   "metadata": {},
   "outputs": [
    {
     "name": "stdout",
     "output_type": "stream",
     "text": [
      "Enter number of students:2\n",
      "Enter Name:Pradeep\n",
      "Enter Marks85\n",
      "Hi Pradeep\n",
      "Your Marks are : 85\n",
      "You got First Grade\n",
      "\n",
      "Enter Name:Xyz\n",
      "Enter Marks30\n",
      "Hi Xyz\n",
      "Your Marks are : 30\n",
      "You are Failed\n",
      "\n"
     ]
    }
   ],
   "source": [
    "class Student:\n",
    "    def __init__(self,name,marks):\n",
    "        self.name = name\n",
    "        self.marks = marks\n",
    "    def display(self):\n",
    "        print('Hi', self.name)\n",
    "        print('Your Marks are :',self.marks)\n",
    "    def grade(self):\n",
    "        if self.marks >=60:\n",
    "            print(\"You got First Grade\")\n",
    "        elif self.marks>=50:\n",
    "            print(\"You got Second Grade\")\n",
    "        elif self.marks>=35:\n",
    "            print('Your got Third Grade')\n",
    "        else:\n",
    "            print('You are Failed')\n",
    "\n",
    "n = int(input('Enter number of students:'))\n",
    "for i in range(n):\n",
    "    name = input(\"Enter Name:\")\n",
    "    marks = int(input('Enter Marks'))\n",
    "    s= Student(name,marks)\n",
    "    s.display()\n",
    "    s.grade()\n",
    "    print()"
   ]
  },
  {
   "cell_type": "code",
   "execution_count": 4,
   "id": "3847e458",
   "metadata": {},
   "outputs": [
    {
     "name": "stdout",
     "output_type": "stream",
     "text": [
      "Enter number of students:2\n",
      "Enter Name:Anand\n",
      "Enter Marks90\n",
      "Hi Anand\n",
      "Your marks are:  90\n",
      "\n",
      "Enter Name:Karan\n",
      "Enter Marks85\n",
      "Hi Karan\n",
      "Your marks are:  85\n",
      "\n"
     ]
    }
   ],
   "source": [
    "class Student1:\n",
    "    def setName(self,name):\n",
    "        self.name = name\n",
    "    def getName(self):\n",
    "        return self.name\n",
    "    def setMarks(self, marks):\n",
    "        self.marks = marks\n",
    "    def getMarks(self):\n",
    "        return self.marks\n",
    "    \n",
    "n = int(input('Enter number of students:'))\n",
    "for i in range(n):\n",
    "    s = Student1()\n",
    "    name = input('Enter Name:')\n",
    "    s.setName(name)\n",
    "    marks = int(input('Enter Marks'))\n",
    "    s.setMarks(marks)\n",
    "    \n",
    "    print('Hi', s.getName())\n",
    "    print('Your marks are: ',s.getMarks())\n",
    "    print()"
   ]
  },
  {
   "cell_type": "code",
   "execution_count": null,
   "id": "8132f65f",
   "metadata": {},
   "outputs": [],
   "source": []
  }
 ],
 "metadata": {
  "kernelspec": {
   "display_name": "Python 3 (ipykernel)",
   "language": "python",
   "name": "python3"
  },
  "language_info": {
   "codemirror_mode": {
    "name": "ipython",
    "version": 3
   },
   "file_extension": ".py",
   "mimetype": "text/x-python",
   "name": "python",
   "nbconvert_exporter": "python",
   "pygments_lexer": "ipython3",
   "version": "3.11.3"
  }
 },
 "nbformat": 4,
 "nbformat_minor": 5
}
