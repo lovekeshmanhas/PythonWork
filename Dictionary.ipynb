{
 "cells": [
  {
   "cell_type": "code",
   "execution_count": 1,
   "id": "83669faa",
   "metadata": {},
   "outputs": [
    {
     "name": "stdout",
     "output_type": "stream",
     "text": [
      "<class 'dict'>\n",
      "<class 'dict'>\n"
     ]
    }
   ],
   "source": [
    "d1 = {}\n",
    "d2 = dict()\n",
    "print(type(d1))\n",
    "print(type(d2))"
   ]
  },
  {
   "cell_type": "code",
   "execution_count": 2,
   "id": "56b49af5",
   "metadata": {},
   "outputs": [
    {
     "name": "stdout",
     "output_type": "stream",
     "text": [
      "{1: 'Python', 2: 'Java', 3: 'C#'}\n"
     ]
    }
   ],
   "source": [
    "d1[1]=\"Python\"\n",
    "d1[2]=\"Java\"\n",
    "d1[3]=\"C#\"\n",
    "print(d1)"
   ]
  },
  {
   "cell_type": "code",
   "execution_count": 3,
   "id": "2d2f4e40",
   "metadata": {},
   "outputs": [
    {
     "name": "stdout",
     "output_type": "stream",
     "text": [
      "Java\n"
     ]
    }
   ],
   "source": [
    "print(d1[2])"
   ]
  },
  {
   "cell_type": "code",
   "execution_count": 4,
   "id": "fe917d3a",
   "metadata": {},
   "outputs": [
    {
     "ename": "KeyError",
     "evalue": "10",
     "output_type": "error",
     "traceback": [
      "\u001b[1;31m---------------------------------------------------------------------------\u001b[0m",
      "\u001b[1;31mKeyError\u001b[0m                                  Traceback (most recent call last)",
      "Cell \u001b[1;32mIn[4], line 1\u001b[0m\n\u001b[1;32m----> 1\u001b[0m \u001b[38;5;28mprint\u001b[39m(d1[\u001b[38;5;241m10\u001b[39m])\n",
      "\u001b[1;31mKeyError\u001b[0m: 10"
     ]
    }
   ],
   "source": [
    "print(d1[10])"
   ]
  },
  {
   "cell_type": "code",
   "execution_count": 5,
   "id": "84ea5820",
   "metadata": {},
   "outputs": [
    {
     "ename": "AttributeError",
     "evalue": "'dict' object has no attribute 'has_key'",
     "output_type": "error",
     "traceback": [
      "\u001b[1;31m---------------------------------------------------------------------------\u001b[0m",
      "\u001b[1;31mAttributeError\u001b[0m                            Traceback (most recent call last)",
      "Cell \u001b[1;32mIn[5], line 1\u001b[0m\n\u001b[1;32m----> 1\u001b[0m d1\u001b[38;5;241m.\u001b[39mhas_key(\u001b[38;5;241m10\u001b[39m)\n",
      "\u001b[1;31mAttributeError\u001b[0m: 'dict' object has no attribute 'has_key'"
     ]
    }
   ],
   "source": [
    "d1.has_key(10)  # Python 2 "
   ]
  },
  {
   "cell_type": "code",
   "execution_count": 6,
   "id": "72025dac",
   "metadata": {},
   "outputs": [],
   "source": [
    "# Python 3\n",
    "if 10 in d1:\n",
    "    print(d1[10])"
   ]
  },
  {
   "cell_type": "code",
   "execution_count": 7,
   "id": "90cba647",
   "metadata": {},
   "outputs": [],
   "source": [
    "# write a program to enter name and percentage marks in a dictionary and display information on the screen"
   ]
  },
  {
   "cell_type": "code",
   "execution_count": 8,
   "id": "0c7884c3",
   "metadata": {},
   "outputs": [
    {
     "name": "stdout",
     "output_type": "stream",
     "text": [
      "{1: 'Python', 2: 'Javascript', 3: 'C#'}\n"
     ]
    }
   ],
   "source": [
    "# update dictionaries d[key] = value\n",
    "d1[2] = \"Javascript\"\n",
    "print(d1)"
   ]
  },
  {
   "cell_type": "code",
   "execution_count": 9,
   "id": "c1d82b59",
   "metadata": {},
   "outputs": [
    {
     "name": "stdout",
     "output_type": "stream",
     "text": [
      "{1: 'Python', 2: 'Javascript'}\n"
     ]
    }
   ],
   "source": [
    "# delete the element: del\n",
    "del d1[3]\n",
    "print(d1)\n"
   ]
  },
  {
   "cell_type": "code",
   "execution_count": 10,
   "id": "20154fb5",
   "metadata": {},
   "outputs": [
    {
     "name": "stdout",
     "output_type": "stream",
     "text": [
      "{}\n"
     ]
    }
   ],
   "source": [
    "# clear(): remove all element\n",
    "d1.clear()\n",
    "print(d1)\n"
   ]
  },
  {
   "cell_type": "code",
   "execution_count": 11,
   "id": "0786138d",
   "metadata": {},
   "outputs": [
    {
     "ename": "NameError",
     "evalue": "name 'd1' is not defined",
     "output_type": "error",
     "traceback": [
      "\u001b[1;31m---------------------------------------------------------------------------\u001b[0m",
      "\u001b[1;31mNameError\u001b[0m                                 Traceback (most recent call last)",
      "Cell \u001b[1;32mIn[11], line 2\u001b[0m\n\u001b[0;32m      1\u001b[0m \u001b[38;5;28;01mdel\u001b[39;00m d1\n\u001b[1;32m----> 2\u001b[0m \u001b[38;5;28mprint\u001b[39m(d1)\n",
      "\u001b[1;31mNameError\u001b[0m: name 'd1' is not defined"
     ]
    }
   ],
   "source": [
    "del d1\n",
    "print(d1)"
   ]
  },
  {
   "cell_type": "code",
   "execution_count": 12,
   "id": "e1a1407c",
   "metadata": {},
   "outputs": [],
   "source": [
    "# len(), get(), pop(), popitem(), keys(), values(), items(), copy(), setdefault(), update()"
   ]
  },
  {
   "cell_type": "code",
   "execution_count": 15,
   "id": "0b43a0d2",
   "metadata": {},
   "outputs": [
    {
     "name": "stdout",
     "output_type": "stream",
     "text": [
      "4\n"
     ]
    }
   ],
   "source": [
    "d3 = {10:\"Python\", 20:\"Java\", 30:\"C#\", 40:\"Javascript\"}\n",
    "print(len(d3))"
   ]
  },
  {
   "cell_type": "code",
   "execution_count": 16,
   "id": "d4d8f3a0",
   "metadata": {},
   "outputs": [
    {
     "name": "stdout",
     "output_type": "stream",
     "text": [
      "C#\n"
     ]
    }
   ],
   "source": [
    "print(d3.get(30))"
   ]
  },
  {
   "cell_type": "code",
   "execution_count": 17,
   "id": "b5d6e455",
   "metadata": {},
   "outputs": [
    {
     "name": "stdout",
     "output_type": "stream",
     "text": [
      "None\n"
     ]
    }
   ],
   "source": [
    "print(d3.get(60))"
   ]
  },
  {
   "cell_type": "code",
   "execution_count": 18,
   "id": "9cef62c9",
   "metadata": {},
   "outputs": [
    {
     "name": "stdout",
     "output_type": "stream",
     "text": [
      "Javascript\n",
      "{10: 'Python', 20: 'Java', 30: 'C#'}\n"
     ]
    }
   ],
   "source": [
    "print(d3.pop(40))\n",
    "print(d3)"
   ]
  },
  {
   "cell_type": "code",
   "execution_count": 19,
   "id": "51882309",
   "metadata": {},
   "outputs": [
    {
     "name": "stdout",
     "output_type": "stream",
     "text": [
      "(30, 'C#')\n",
      "{10: 'Python', 20: 'Java'}\n"
     ]
    }
   ],
   "source": [
    "print(d3.popitem())  # remove an arbitrary item from the dictionary\n",
    "print(d3)"
   ]
  },
  {
   "cell_type": "code",
   "execution_count": 20,
   "id": "07348889",
   "metadata": {},
   "outputs": [
    {
     "name": "stdout",
     "output_type": "stream",
     "text": [
      "dict_keys([10, 20])\n"
     ]
    }
   ],
   "source": [
    "print(d3.keys())"
   ]
  },
  {
   "cell_type": "code",
   "execution_count": 21,
   "id": "f18fb154",
   "metadata": {},
   "outputs": [
    {
     "name": "stdout",
     "output_type": "stream",
     "text": [
      "dict_values(['Python', 'Java'])\n"
     ]
    }
   ],
   "source": [
    "print(d3.values())"
   ]
  },
  {
   "cell_type": "code",
   "execution_count": 23,
   "id": "44068832",
   "metadata": {},
   "outputs": [
    {
     "name": "stdout",
     "output_type": "stream",
     "text": [
      "10  ****  Python\n",
      "20  ****  Java\n"
     ]
    }
   ],
   "source": [
    "for k,v in d3.items():\n",
    "    print(k,\" **** \",v)"
   ]
  },
  {
   "cell_type": "code",
   "execution_count": 24,
   "id": "65fccbc7",
   "metadata": {},
   "outputs": [
    {
     "name": "stdout",
     "output_type": "stream",
     "text": [
      "{10: 'Python', 20: 'Java'}\n"
     ]
    }
   ],
   "source": [
    "d4 = d3.copy()\n",
    "print(d4)"
   ]
  },
  {
   "cell_type": "code",
   "execution_count": null,
   "id": "98254d66",
   "metadata": {},
   "outputs": [],
   "source": [
    "# write a program to find number of occurences of each letter present in the given string\n",
    "# write a program to find number of occurences of each vowel present int he given string"
   ]
  }
 ],
 "metadata": {
  "kernelspec": {
   "display_name": "Python 3 (ipykernel)",
   "language": "python",
   "name": "python3"
  },
  "language_info": {
   "codemirror_mode": {
    "name": "ipython",
    "version": 3
   },
   "file_extension": ".py",
   "mimetype": "text/x-python",
   "name": "python",
   "nbconvert_exporter": "python",
   "pygments_lexer": "ipython3",
   "version": "3.11.3"
  }
 },
 "nbformat": 4,
 "nbformat_minor": 5
}
