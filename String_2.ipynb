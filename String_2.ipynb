{
 "cells": [
  {
   "cell_type": "code",
   "execution_count": 1,
   "id": "2ff412d7",
   "metadata": {},
   "outputs": [
    {
     "name": "stdout",
     "output_type": "stream",
     "text": [
      "4\n"
     ]
    }
   ],
   "source": [
    "# Count substring\n",
    "s = \"Python is a programming language\"\n",
    "print(s.count(\"a\"))"
   ]
  },
  {
   "cell_type": "code",
   "execution_count": 2,
   "id": "e5b49846",
   "metadata": {},
   "outputs": [
    {
     "name": "stdout",
     "output_type": "stream",
     "text": [
      "1\n"
     ]
    }
   ],
   "source": [
    "print(s.count('pro'))"
   ]
  },
  {
   "cell_type": "code",
   "execution_count": 3,
   "id": "1b6eeb60",
   "metadata": {},
   "outputs": [
    {
     "name": "stdout",
     "output_type": "stream",
     "text": [
      "1\n"
     ]
    }
   ],
   "source": [
    "print(s.count('a',12, 25 ))"
   ]
  },
  {
   "cell_type": "code",
   "execution_count": 4,
   "id": "8d20f20f",
   "metadata": {},
   "outputs": [
    {
     "name": "stdout",
     "output_type": "stream",
     "text": [
      "Python is very difficult language\n"
     ]
    }
   ],
   "source": [
    "# Replace string\n",
    "s1 = \"Python is very easy language\"\n",
    "s2 = s1.replace(\"easy\", \"difficult\")\n",
    "print(s2)"
   ]
  },
  {
   "cell_type": "code",
   "execution_count": 7,
   "id": "0779ec6d",
   "metadata": {},
   "outputs": [],
   "source": [
    "s3 = \"Java is difficult language. Java is based on Oops\"\n",
    "s4 = s3.replace(\"Java\", \"Python\")"
   ]
  },
  {
   "cell_type": "code",
   "execution_count": 8,
   "id": "8c4b25b5",
   "metadata": {},
   "outputs": [
    {
     "name": "stdout",
     "output_type": "stream",
     "text": [
      "Python is difficult language. Python is based on Oops\n"
     ]
    }
   ],
   "source": [
    "print(s4)"
   ]
  },
  {
   "cell_type": "code",
   "execution_count": 10,
   "id": "eaa5ccbf",
   "metadata": {},
   "outputs": [
    {
     "name": "stdout",
     "output_type": "stream",
     "text": [
      "Python\n",
      "Programming\n",
      "Language\n"
     ]
    }
   ],
   "source": [
    "# Split a string\n",
    "s5 = \"Python Programming Language\"\n",
    "x = s5.split()\n",
    "for i in x:\n",
    "    print(i)"
   ]
  },
  {
   "cell_type": "code",
   "execution_count": 11,
   "id": "581eb10d",
   "metadata": {},
   "outputs": [
    {
     "name": "stdout",
     "output_type": "stream",
     "text": [
      "Dyal-Pardeep-Kaushal\n"
     ]
    }
   ],
   "source": [
    "# Joining of strings\n",
    "t1 = ('Dyal', 'Pardeep', 'Kaushal')\n",
    "s6 = '-'.join(t1)\n",
    "print(s6)"
   ]
  },
  {
   "cell_type": "code",
   "execution_count": 15,
   "id": "823623e8",
   "metadata": {},
   "outputs": [
    {
     "name": "stdout",
     "output_type": "stream",
     "text": [
      "False\n",
      "True\n",
      "False\n",
      "True\n"
     ]
    }
   ],
   "source": [
    "# Start and end of the substring\n",
    "s7 = 'Python is very easy language'\n",
    "print(s7.startswith('easy'))\n",
    "print(s7.startswith('Python'))\n",
    "print(s7.endswith('easy'))\n",
    "print(s7.endswith('language'))"
   ]
  },
  {
   "cell_type": "code",
   "execution_count": 19,
   "id": "985b2f01",
   "metadata": {},
   "outputs": [
    {
     "name": "stdout",
     "output_type": "stream",
     "text": [
      "Anand's salary is 50000 and his age is 22\n",
      "Anand's salary is 50000 and his age is 22\n",
      "Anand's salary is 50000 and his age is 22\n"
     ]
    }
   ],
   "source": [
    "# format() method\n",
    "name = \"Anand\"\n",
    "salary = 50000\n",
    "age = 22\n",
    "print(\"{}'s salary is {} and his age is {}\".format(name, salary, age))\n",
    "print(\"{0}'s salary is {1} and his age is {2}\".format(name, salary, age))\n",
    "print(\"{a}'s salary is {b} and his age is {c}\".format(a=name, b=salary, c=age))"
   ]
  },
  {
   "cell_type": "code",
   "execution_count": null,
   "id": "5cd70762",
   "metadata": {},
   "outputs": [],
   "source": [
    "# write a program to reverse the given String\n",
    "# write a program to reverse the order of words\n",
    "# write a program to reverse internal content of eash word\n",
    "# write a program to get the following output  \n",
    "# input = a5b4c2\n",
    "# output = aaaaabbbbcc\n"
   ]
  }
 ],
 "metadata": {
  "kernelspec": {
   "display_name": "Python 3 (ipykernel)",
   "language": "python",
   "name": "python3"
  },
  "language_info": {
   "codemirror_mode": {
    "name": "ipython",
    "version": 3
   },
   "file_extension": ".py",
   "mimetype": "text/x-python",
   "name": "python",
   "nbconvert_exporter": "python",
   "pygments_lexer": "ipython3",
   "version": "3.11.3"
  }
 },
 "nbformat": 4,
 "nbformat_minor": 5
}
