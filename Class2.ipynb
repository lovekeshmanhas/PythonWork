{
 "cells": [
  {
   "cell_type": "code",
   "execution_count": 1,
   "id": "ea950d5b",
   "metadata": {},
   "outputs": [
    {
     "name": "stdout",
     "output_type": "stream",
     "text": [
      "84\n",
      "{'name': 'Dyal', 'age': 20, 'marks': 84, 'course': 'BCA', 'mobileNo': '9866554564'}\n",
      "Dyal 20 BCA\n"
     ]
    }
   ],
   "source": [
    "# instance variable outside of the class\n",
    "class Student:\n",
    "    def __init__(self):\n",
    "        self.name='Dyal'\n",
    "        self.age=20\n",
    "        self.marks=84\n",
    "    def m1(self):\n",
    "        self.course='BCA'\n",
    "        print(self.marks)\n",
    "stu1 = Student()\n",
    "stu1.m1()\n",
    "stu1.mobileNo = '9866554564'\n",
    "print(stu1.__dict__)\n",
    "print(stu1.name, stu1.age,stu1.course)"
   ]
  },
  {
   "cell_type": "code",
   "execution_count": 2,
   "id": "1635808b",
   "metadata": {},
   "outputs": [
    {
     "name": "stdout",
     "output_type": "stream",
     "text": [
      "{'name': 'Dyal', 'age': 20, 'marks': 84}\n",
      "{'name': 'Dyal', 'marks': 84}\n",
      "{'name': 'Dyal'}\n",
      "{'name': 'Dyal', 'age': 20, 'marks': 84}\n"
     ]
    }
   ],
   "source": [
    "# Delete instance variable\n",
    "class Student2:\n",
    "    def __init__(self):\n",
    "        self.name='Dyal'\n",
    "        self.age=20\n",
    "        self.marks=84\n",
    "    def m1(self):\n",
    "        del self.age\n",
    "\n",
    "stu2 = Student2()\n",
    "stu3 = Student2()\n",
    "print(stu2.__dict__)\n",
    "stu2.m1()\n",
    "print(stu2.__dict__)\n",
    "del stu2.marks\n",
    "print(stu2.__dict__)\n",
    "print(stu3.__dict__)"
   ]
  },
  {
   "cell_type": "code",
   "execution_count": 3,
   "id": "2b015641",
   "metadata": {},
   "outputs": [
    {
     "name": "stdout",
     "output_type": "stream",
     "text": [
      "T1 object : 10 20\n",
      "T2 object : 10 20\n",
      "T1 object : 444 99\n",
      "T2 object : 444 20\n"
     ]
    }
   ],
   "source": [
    "# static variables\n",
    "class Test:\n",
    "    x = 10  # static variable\n",
    "    def __init__(self):\n",
    "        self.y = 20  # instance variable\n",
    "\n",
    "t1 = Test()\n",
    "t2 = Test()\n",
    "print(\"T1 object :\",t1.x,t1.y) #10 20\n",
    "print(\"T2 object :\",t2.x,t2.y) #10 20\n",
    "Test.x=444\n",
    "t1.y=99\n",
    "print(\"T1 object :\",t1.x,t1.y) # 444 99\n",
    "print(\"T2 object :\",t2.x,t2.y) # 444 20  "
   ]
  },
  {
   "cell_type": "code",
   "execution_count": 4,
   "id": "2aa3ff28",
   "metadata": {},
   "outputs": [
    {
     "name": "stdout",
     "output_type": "stream",
     "text": [
      "{'__module__': '__main__', 'a': 10, '__init__': <function Test2.__init__ at 0x000002CBBB012660>, 'm1': <function Test2.m1 at 0x000002CBBB013240>, 'm2': <classmethod(<function Test2.m2 at 0x000002CBBB012DE0>)>, 'm3': <staticmethod(<function Test2.m3 at 0x000002CBBB011E40>)>, '__dict__': <attribute '__dict__' of 'Test2' objects>, '__weakref__': <attribute '__weakref__' of 'Test2' objects>, '__doc__': None}\n",
      "{'__module__': '__main__', 'a': 10, '__init__': <function Test2.__init__ at 0x000002CBBB012660>, 'm1': <function Test2.m1 at 0x000002CBBB013240>, 'm2': <classmethod(<function Test2.m2 at 0x000002CBBB012DE0>)>, 'm3': <staticmethod(<function Test2.m3 at 0x000002CBBB011E40>)>, '__dict__': <attribute '__dict__' of 'Test2' objects>, '__weakref__': <attribute '__weakref__' of 'Test2' objects>, '__doc__': None, 'b': 20}\n",
      "{'__module__': '__main__', 'a': 10, '__init__': <function Test2.__init__ at 0x000002CBBB012660>, 'm1': <function Test2.m1 at 0x000002CBBB013240>, 'm2': <classmethod(<function Test2.m2 at 0x000002CBBB012DE0>)>, 'm3': <staticmethod(<function Test2.m3 at 0x000002CBBB011E40>)>, '__dict__': <attribute '__dict__' of 'Test2' objects>, '__weakref__': <attribute '__weakref__' of 'Test2' objects>, '__doc__': None, 'b': 20, 'c': 30}\n",
      "{'__module__': '__main__', 'a': 10, '__init__': <function Test2.__init__ at 0x000002CBBB012660>, 'm1': <function Test2.m1 at 0x000002CBBB013240>, 'm2': <classmethod(<function Test2.m2 at 0x000002CBBB012DE0>)>, 'm3': <staticmethod(<function Test2.m3 at 0x000002CBBB011E40>)>, '__dict__': <attribute '__dict__' of 'Test2' objects>, '__weakref__': <attribute '__weakref__' of 'Test2' objects>, '__doc__': None, 'b': 20, 'c': 30, 'd1': 40, 'd2': 200}\n",
      "{'__module__': '__main__', 'a': 10, '__init__': <function Test2.__init__ at 0x000002CBBB012660>, 'm1': <function Test2.m1 at 0x000002CBBB013240>, 'm2': <classmethod(<function Test2.m2 at 0x000002CBBB012DE0>)>, 'm3': <staticmethod(<function Test2.m3 at 0x000002CBBB011E40>)>, '__dict__': <attribute '__dict__' of 'Test2' objects>, '__weakref__': <attribute '__weakref__' of 'Test2' objects>, '__doc__': None, 'b': 20, 'c': 30, 'd1': 40, 'd2': 200, 'e': 50}\n",
      "{'__module__': '__main__', 'a': 10, '__init__': <function Test2.__init__ at 0x000002CBBB012660>, 'm1': <function Test2.m1 at 0x000002CBBB013240>, 'm2': <classmethod(<function Test2.m2 at 0x000002CBBB012DE0>)>, 'm3': <staticmethod(<function Test2.m3 at 0x000002CBBB011E40>)>, '__dict__': <attribute '__dict__' of 'Test2' objects>, '__weakref__': <attribute '__weakref__' of 'Test2' objects>, '__doc__': None, 'b': 20, 'c': 30, 'd1': 40, 'd2': 200, 'e': 50, 'f': 60}\n"
     ]
    }
   ],
   "source": [
    "# Declare Static Variable\n",
    "class Test2:\n",
    "    a=10\n",
    "    def __init__(self):\n",
    "        Test2.b=20\n",
    "    def m1(self):\n",
    "        Test2.c=30\n",
    "    @classmethod  # annotation\n",
    "    def m2(cls):\n",
    "        cls.d1= 40\n",
    "        Test2.d2=200\n",
    "    @staticmethod\n",
    "    def m3():\n",
    "        Test2.e = 50\n",
    "\n",
    "print(Test2.__dict__) # a, 10\n",
    "t = Test2()\n",
    "print(Test2.__dict__) # a,b\n",
    "t.m1()\n",
    "print(Test2.__dict__) # a,b,c\n",
    "Test2.m2()\n",
    "print(Test2.__dict__) # a,b,c,d1,d2\n",
    "Test2.m3()\n",
    "print(Test2.__dict__) # a,b,c,d1,d2,e\n",
    "Test2.f=60\n",
    "print(Test2.__dict__) # a,b,c,d1,d2,e,f\n",
    "\n",
    "    "
   ]
  },
  {
   "cell_type": "code",
   "execution_count": 5,
   "id": "33065091",
   "metadata": {},
   "outputs": [
    {
     "name": "stdout",
     "output_type": "stream",
     "text": [
      "10\n",
      "10\n",
      "10\n",
      "10\n",
      "10\n",
      "10\n",
      "44\n",
      "44\n",
      "999\n"
     ]
    }
   ],
   "source": [
    "# Access static variable\n",
    "class Test3:\n",
    "    a=10\n",
    "    def __init__(self):\n",
    "        print(self.a)\n",
    "        print(Test3.a)\n",
    "    def m1(self):\n",
    "        print(self.a)\n",
    "        print(Test3.a)\n",
    "    @classmethod  # annotation\n",
    "    def m2(cls):\n",
    "        Test3.a=44\n",
    "        print(cls.a)\n",
    "        print(Test3.a)\n",
    "        Test3.a=999\n",
    "    @staticmethod\n",
    "    def m3():\n",
    "        print(Test3.a)\n",
    "\n",
    "t = Test3()\n",
    "print(Test3.a)\n",
    "print(t.a)\n",
    "t.m1()\n",
    "t.m2()\n",
    "t.m3()"
   ]
  },
  {
   "cell_type": "code",
   "execution_count": 6,
   "id": "5f758264",
   "metadata": {},
   "outputs": [],
   "source": [
    "# write a program to delete a static variable from inside the class constructor, instance method, class method and static method and also from the outside of the class"
   ]
  },
  {
   "cell_type": "code",
   "execution_count": 7,
   "id": "3d5c070a",
   "metadata": {},
   "outputs": [
    {
     "name": "stdout",
     "output_type": "stream",
     "text": [
      "Welcome to  PYTHONBANK\n",
      "Enter your Name:Karan\n",
      "d-Deposit \n",
      "w-Withdraw \n",
      " e-exit\n",
      "Choose your option:d\n",
      "Enter deposit amount:10000\n",
      "Balance after deposit: 10000.0\n",
      "d-Deposit \n",
      "w-Withdraw \n",
      " e-exit\n",
      "Choose your option:w\n",
      "Enter withdraw amount:5000\n",
      "Your balance before withdraw : 10000.0\n",
      "Your balance after withdraw : 5000.0\n",
      "d-Deposit \n",
      "w-Withdraw \n",
      " e-exit\n",
      "Choose your option:e\n",
      "Thanks for Banking\n"
     ]
    },
    {
     "ename": "SystemExit",
     "evalue": "",
     "output_type": "error",
     "traceback": [
      "An exception has occurred, use %tb to see the full traceback.\n",
      "\u001b[1;31mSystemExit\u001b[0m\n"
     ]
    },
    {
     "name": "stderr",
     "output_type": "stream",
     "text": [
      "C:\\Users\\Lovekesh\\anaconda3\\Lib\\site-packages\\IPython\\core\\interactiveshell.py:3513: UserWarning: To exit: use 'exit', 'quit', or Ctrl-D.\n",
      "  warn(\"To exit: use 'exit', 'quit', or Ctrl-D.\", stacklevel=1)\n"
     ]
    }
   ],
   "source": [
    "# Application for the use of static variables\n",
    "import sys\n",
    "class Customer:\n",
    "    bankname='PYTHONBANK'\n",
    "    def __init__(self,name, balance=0.0):\n",
    "        self.name = name\n",
    "        self.balance = balance\n",
    "    def deposit(self, amt):\n",
    "        self.balance = self.balance + amt\n",
    "        print(\"Balance after deposit:\", self.balance)\n",
    "        \n",
    "    def withdraw(self, amt):\n",
    "        print(\"Your balance before withdraw :\", self.balance)\n",
    "        if amt > self.balance:\n",
    "            print(\"Insufficient Funds, cannot perform this operation\")\n",
    "            sys.exit()\n",
    "        self.balance = self.balance - amt\n",
    "        print(\"Your balance after withdraw :\", self.balance)\n",
    "        \n",
    "print('Welcome to ', Customer.bankname)\n",
    "name = input('Enter your Name:')\n",
    "c = Customer(name)  \n",
    "while(True):\n",
    "    print(\"d-Deposit \\nw-Withdraw \\n e-exit\")\n",
    "    option = input('Choose your option:')\n",
    "    if option == 'd' or option == 'D':\n",
    "        amt = float(input('Enter deposit amount:'))\n",
    "        c.deposit(amt)\n",
    "    elif option == 'w' or option == 'W':\n",
    "        amt = float(input('Enter withdraw amount:'))\n",
    "        c.withdraw(amt)\n",
    "    elif option == 'e' or option == 'E':\n",
    "        print('Thanks for Banking')\n",
    "        sys.exit()\n",
    "    else:\n",
    "        print('Invalid option, Please choose valid option')"
   ]
  },
  {
   "cell_type": "code",
   "execution_count": null,
   "id": "80b61b88",
   "metadata": {},
   "outputs": [],
   "source": [
    "class Test:\n",
    "    def m1(self):\n",
    "        a = 100\n",
    "        print(a)\n",
    "    def m2(self):\n",
    "        b = 200\n",
    "        print(b)\n",
    "        print(a)\n",
    "t = Test()\n",
    "t.m1()\n",
    "t.m2()"
   ]
  }
 ],
 "metadata": {
  "kernelspec": {
   "display_name": "Python 3 (ipykernel)",
   "language": "python",
   "name": "python3"
  },
  "language_info": {
   "codemirror_mode": {
    "name": "ipython",
    "version": 3
   },
   "file_extension": ".py",
   "mimetype": "text/x-python",
   "name": "python",
   "nbconvert_exporter": "python",
   "pygments_lexer": "ipython3",
   "version": "3.11.3"
  }
 },
 "nbformat": 4,
 "nbformat_minor": 5
}
