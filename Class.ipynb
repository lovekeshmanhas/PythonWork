{
 "cells": [
  {
   "cell_type": "code",
   "execution_count": 2,
   "id": "7d6f1030",
   "metadata": {},
   "outputs": [
    {
     "name": "stdout",
     "output_type": "stream",
     "text": [
      "This is student class with required data\n",
      "****************\n",
      "Help on class Student in module __main__:\n",
      "\n",
      "class Student(builtins.object)\n",
      " |  This is student class with required data\n",
      " |  \n",
      " |  Data descriptors defined here:\n",
      " |  \n",
      " |  __dict__\n",
      " |      dictionary for instance variables (if defined)\n",
      " |  \n",
      " |  __weakref__\n",
      " |      list of weak references to the object (if defined)\n",
      "\n"
     ]
    }
   ],
   "source": [
    "class Student:\n",
    "    \"This is student class with required data\"\n",
    "print(Student.__doc__)\n",
    "print(\"****************\")\n",
    "help(Student)"
   ]
  },
  {
   "cell_type": "code",
   "execution_count": 13,
   "id": "07825578",
   "metadata": {},
   "outputs": [],
   "source": [
    "class Student1:\n",
    "    \"Python class for student\"\n",
    "    def __init__(self,name, age, marks):\n",
    "        self.name=name\n",
    "        self.age=age\n",
    "        self.marks=marks\n",
    "    def intro(self):\n",
    "        print(\"Hello I am :\",self.name)\n",
    "        print(\"My age is :\",self.age)\n",
    "        print(\"My marks are :\",self.marks)\n"
   ]
  },
  {
   "cell_type": "code",
   "execution_count": 14,
   "id": "64671475",
   "metadata": {},
   "outputs": [
    {
     "name": "stdout",
     "output_type": "stream",
     "text": [
      "Hello I am : Dyal\n",
      "My age is : 20\n",
      "My marks are : 85\n"
     ]
    }
   ],
   "source": [
    "s1 = Student1(\"Dyal\", 20, 85)\n",
    "s1.intro()"
   ]
  },
  {
   "cell_type": "code",
   "execution_count": 15,
   "id": "20493a34",
   "metadata": {},
   "outputs": [
    {
     "name": "stdout",
     "output_type": "stream",
     "text": [
      "Constructor execution\n",
      "Constructor execution\n",
      "Constructor execution\n",
      "Method execution\n"
     ]
    }
   ],
   "source": [
    "class ConstructorTest:\n",
    "    def __init__(self):\n",
    "        print(\"Constructor execution\")\n",
    "    def m1(self):\n",
    "        print(\"Method execution\")\n",
    "\n",
    "constTest1 = ConstructorTest()\n",
    "constTest2 = ConstructorTest()\n",
    "constTest3 = ConstructorTest()\n",
    "constTest1.m1()"
   ]
  },
  {
   "cell_type": "code",
   "execution_count": 16,
   "id": "caf182c0",
   "metadata": {},
   "outputs": [],
   "source": [
    "# write a  class program to display the employee details. Details enter through keyboard or runtime"
   ]
  },
  {
   "cell_type": "code",
   "execution_count": 18,
   "id": "cdb1c2d7",
   "metadata": {},
   "outputs": [
    {
     "name": "stdout",
     "output_type": "stream",
     "text": [
      "{'name': 'Pradeep', 'age': 20, 'marks': 82}\n"
     ]
    }
   ],
   "source": [
    "#inside constructor by using self variables\n",
    "class Student2:\n",
    "    \"Python class for student\"\n",
    "    def __init__(self):\n",
    "        self.name='Pradeep'\n",
    "        self.age=20\n",
    "        self.marks=82\n",
    "\n",
    "stu2 = Student2()\n",
    "print(stu2.__dict__)"
   ]
  },
  {
   "cell_type": "code",
   "execution_count": 20,
   "id": "2ac5f4e2",
   "metadata": {},
   "outputs": [
    {
     "name": "stdout",
     "output_type": "stream",
     "text": [
      "{'name': 'Pradeep', 'age': 20, 'marks': 82, 'course': 'BCA'}\n"
     ]
    }
   ],
   "source": [
    "# inside instance method by using Self variable\n",
    "class Student3:\n",
    "    def __init__(self):\n",
    "        self.name='Pradeep'\n",
    "        self.age=20\n",
    "        self.marks=82\n",
    "    def m1(self):\n",
    "        self.course = 'BCA'\n",
    "    \n",
    "stu3 = Student3()\n",
    "stu3.m1()\n",
    "print(stu3.__dict__) "
   ]
  },
  {
   "cell_type": "code",
   "execution_count": null,
   "id": "2098a512",
   "metadata": {},
   "outputs": [],
   "source": []
  }
 ],
 "metadata": {
  "kernelspec": {
   "display_name": "Python 3 (ipykernel)",
   "language": "python",
   "name": "python3"
  },
  "language_info": {
   "codemirror_mode": {
    "name": "ipython",
    "version": 3
   },
   "file_extension": ".py",
   "mimetype": "text/x-python",
   "name": "python",
   "nbconvert_exporter": "python",
   "pygments_lexer": "ipython3",
   "version": "3.11.3"
  }
 },
 "nbformat": 4,
 "nbformat_minor": 5
}
