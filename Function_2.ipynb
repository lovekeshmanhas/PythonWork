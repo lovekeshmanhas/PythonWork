{
 "cells": [
  {
   "cell_type": "code",
   "execution_count": 1,
   "id": "946db107",
   "metadata": {},
   "outputs": [
    {
     "name": "stdout",
     "output_type": "stream",
     "text": [
      "20\n",
      "20\n"
     ]
    }
   ],
   "source": [
    "# Global Variables:\n",
    "x = 20\n",
    "def f1():\n",
    "    print(x)\n",
    "\n",
    "def f2():\n",
    "    print(x)\n",
    "\n",
    "f1()\n",
    "f2()"
   ]
  },
  {
   "cell_type": "code",
   "execution_count": 2,
   "id": "a236d68e",
   "metadata": {
    "scrolled": true
   },
   "outputs": [
    {
     "name": "stdout",
     "output_type": "stream",
     "text": [
      "30\n"
     ]
    },
    {
     "ename": "NameError",
     "evalue": "name 'y' is not defined",
     "output_type": "error",
     "traceback": [
      "\u001b[1;31m---------------------------------------------------------------------------\u001b[0m",
      "\u001b[1;31mNameError\u001b[0m                                 Traceback (most recent call last)",
      "Cell \u001b[1;32mIn[2], line 10\u001b[0m\n\u001b[0;32m      7\u001b[0m     \u001b[38;5;28mprint\u001b[39m(y)\n\u001b[0;32m      9\u001b[0m f3()\n\u001b[1;32m---> 10\u001b[0m f4()\n",
      "Cell \u001b[1;32mIn[2], line 7\u001b[0m, in \u001b[0;36mf4\u001b[1;34m()\u001b[0m\n\u001b[0;32m      6\u001b[0m \u001b[38;5;28;01mdef\u001b[39;00m \u001b[38;5;21mf4\u001b[39m():\n\u001b[1;32m----> 7\u001b[0m     \u001b[38;5;28mprint\u001b[39m(y)\n",
      "\u001b[1;31mNameError\u001b[0m: name 'y' is not defined"
     ]
    }
   ],
   "source": [
    "# Local Variables:\n",
    "def f3():\n",
    "    y=30\n",
    "    print(y)\n",
    "    \n",
    "def f4():\n",
    "    print(y)\n",
    "\n",
    "f3()\n",
    "f4()\n",
    "    "
   ]
  },
  {
   "cell_type": "code",
   "execution_count": 4,
   "id": "cd2aee77",
   "metadata": {},
   "outputs": [
    {
     "name": "stdout",
     "output_type": "stream",
     "text": [
      "100\n",
      "100\n"
     ]
    }
   ],
   "source": [
    "# Global keyword\n",
    "#a = 40\n",
    "def f5():\n",
    "    global a\n",
    "    a = 100\n",
    "    print(a)\n",
    "def f6():\n",
    "    print(a)\n",
    "    \n",
    "f5()\n",
    "f6()"
   ]
  },
  {
   "cell_type": "code",
   "execution_count": 5,
   "id": "480a1210",
   "metadata": {},
   "outputs": [
    {
     "name": "stdout",
     "output_type": "stream",
     "text": [
      "100\n",
      "30\n"
     ]
    }
   ],
   "source": [
    "x = 30  #Global Variable\n",
    "def f7():\n",
    "    x = 100 # local variable\n",
    "    print(x)\n",
    "    print(globals()['x'])\n",
    "f7()"
   ]
  },
  {
   "cell_type": "code",
   "execution_count": 6,
   "id": "4b6ec03f",
   "metadata": {},
   "outputs": [
    {
     "name": "stdout",
     "output_type": "stream",
     "text": [
      "Factorial of 5 is : 120\n"
     ]
    }
   ],
   "source": [
    "# factorial:\n",
    "def factorial(n):\n",
    "    if n==0:\n",
    "        result=1\n",
    "    else:\n",
    "        result=n*factorial(n-1)\n",
    "    return result\n",
    "\n",
    "print(\"Factorial of 5 is :\",factorial(5))\n",
    "\n"
   ]
  },
  {
   "cell_type": "code",
   "execution_count": 10,
   "id": "afc98395",
   "metadata": {},
   "outputs": [
    {
     "name": "stdout",
     "output_type": "stream",
     "text": [
      "square of 5 is:  25\n",
      "square of 6 is:  36\n"
     ]
    }
   ],
   "source": [
    "# lambda function\n",
    "s = lambda n:n*n\n",
    "print(\"square of 5 is: \",s(5))\n",
    "print(\"square of 6 is: \",s(6))"
   ]
  },
  {
   "cell_type": "code",
   "execution_count": 11,
   "id": "403994f9",
   "metadata": {},
   "outputs": [],
   "source": [
    "# write a program to find biggest number from the given values using lambda function"
   ]
  },
  {
   "cell_type": "code",
   "execution_count": 12,
   "id": "30c8e8df",
   "metadata": {},
   "outputs": [
    {
     "name": "stdout",
     "output_type": "stream",
     "text": [
      "[0, 10, 20, 30]\n"
     ]
    }
   ],
   "source": [
    "# without lambda function using filter\n",
    "def isEven(x):\n",
    "    if x%2==0:\n",
    "        return True\n",
    "    else:\n",
    "        return False\n",
    "lst1 = [0,5,10,15,20,25,30]\n",
    "lst2 = list(filter(isEven,lst1))\n",
    "print(lst2)"
   ]
  },
  {
   "cell_type": "code",
   "execution_count": 13,
   "id": "032229e0",
   "metadata": {},
   "outputs": [
    {
     "name": "stdout",
     "output_type": "stream",
     "text": [
      "[0, 10, 20, 30]\n",
      "[5, 15, 25]\n"
     ]
    }
   ],
   "source": [
    "# with lambda function\n",
    "lst3 = [0,5,10,15,20,25,30]\n",
    "lst4 = list(filter(lambda x:x%2==0,lst3))\n",
    "print(lst4)\n",
    "lst5 = list(filter(lambda x:x%2!=0,lst3))\n",
    "print(lst5)"
   ]
  },
  {
   "cell_type": "code",
   "execution_count": null,
   "id": "25f5bc91",
   "metadata": {},
   "outputs": [],
   "source": []
  }
 ],
 "metadata": {
  "kernelspec": {
   "display_name": "Python 3 (ipykernel)",
   "language": "python",
   "name": "python3"
  },
  "language_info": {
   "codemirror_mode": {
    "name": "ipython",
    "version": 3
   },
   "file_extension": ".py",
   "mimetype": "text/x-python",
   "name": "python",
   "nbconvert_exporter": "python",
   "pygments_lexer": "ipython3",
   "version": "3.11.3"
  }
 },
 "nbformat": 4,
 "nbformat_minor": 5
}
