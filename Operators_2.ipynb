{
 "cells": [
  {
   "cell_type": "code",
   "execution_count": 10,
   "id": "7639b4e5",
   "metadata": {},
   "outputs": [
    {
     "name": "stdout",
     "output_type": "stream",
     "text": [
      "True\n"
     ]
    }
   ],
   "source": [
    "# range is from -5 to 256\n",
    "a = 210\n",
    "b = 210\n",
    "print(a is b)"
   ]
  },
  {
   "cell_type": "code",
   "execution_count": 7,
   "id": "6e0fe661",
   "metadata": {},
   "outputs": [
    {
     "name": "stdout",
     "output_type": "stream",
     "text": [
      "False\n"
     ]
    }
   ],
   "source": [
    "a = 270\n",
    "b = 270\n",
    "print(a is b)"
   ]
  },
  {
   "cell_type": "code",
   "execution_count": 11,
   "id": "fb7904ac",
   "metadata": {},
   "outputs": [
    {
     "name": "stdout",
     "output_type": "stream",
     "text": [
      "140728490110280\n"
     ]
    }
   ],
   "source": [
    "print(id(a))"
   ]
  },
  {
   "cell_type": "code",
   "execution_count": 12,
   "id": "c8cb1433",
   "metadata": {},
   "outputs": [
    {
     "name": "stdout",
     "output_type": "stream",
     "text": [
      "140728490110280\n"
     ]
    }
   ],
   "source": [
    "print(id(b))"
   ]
  },
  {
   "cell_type": "code",
   "execution_count": 13,
   "id": "d2f0392f",
   "metadata": {},
   "outputs": [
    {
     "name": "stdout",
     "output_type": "stream",
     "text": [
      "True\n",
      "False\n",
      "True\n"
     ]
    }
   ],
   "source": [
    "list1 = [\"Python\", \"Java\", \"C#\", \"Javascript\"]\n",
    "print(\"Java\" in list1) #True\n",
    "print(\"C#\" not in list1) #False\n",
    "print(\"Javascript\" in list1) #True"
   ]
  },
  {
   "cell_type": "code",
   "execution_count": 15,
   "id": "6e5313c4",
   "metadata": {},
   "outputs": [
    {
     "name": "stdout",
     "output_type": "stream",
     "text": [
      "4.0\n"
     ]
    }
   ],
   "source": [
    "import math\n",
    "print(math.sqrt(16))"
   ]
  },
  {
   "cell_type": "code",
   "execution_count": 16,
   "id": "1637742a",
   "metadata": {},
   "outputs": [
    {
     "name": "stdout",
     "output_type": "stream",
     "text": [
      "4.0\n"
     ]
    }
   ],
   "source": [
    "import math as m\n",
    "print(m.sqrt(16))"
   ]
  },
  {
   "cell_type": "code",
   "execution_count": 17,
   "id": "5d745a9a",
   "metadata": {},
   "outputs": [
    {
     "name": "stdout",
     "output_type": "stream",
     "text": [
      "4.0\n"
     ]
    }
   ],
   "source": [
    "from math import sqrt,pi\n",
    "print(sqrt(16))"
   ]
  },
  {
   "cell_type": "code",
   "execution_count": 18,
   "id": "f8b2763d",
   "metadata": {},
   "outputs": [],
   "source": [
    "# Write a program to find area of Circle"
   ]
  },
  {
   "cell_type": "code",
   "execution_count": 20,
   "id": "560ce9aa",
   "metadata": {},
   "outputs": [
    {
     "name": "stdout",
     "output_type": "stream",
     "text": [
      "Enter value10\n",
      "<class 'str'>\n"
     ]
    }
   ],
   "source": [
    "# Dynamic input from the keyboard\n",
    "# Python 2 : raw_input() and input()\n",
    "# Python 3: input()\n",
    "a = input(\"Enter value\")\n",
    "print(type(a))"
   ]
  },
  {
   "cell_type": "code",
   "execution_count": 21,
   "id": "bfb32f0e",
   "metadata": {},
   "outputs": [],
   "source": [
    "# Write a program to enter employee detail from the keyboard"
   ]
  },
  {
   "cell_type": "code",
   "execution_count": 22,
   "id": "1d52bb4c",
   "metadata": {},
   "outputs": [
    {
     "name": "stdout",
     "output_type": "stream",
     "text": [
      "24.0\n"
     ]
    }
   ],
   "source": [
    "a = eval(\"20 + 2*4/2\")\n",
    "print(a)"
   ]
  },
  {
   "cell_type": "code",
   "execution_count": 23,
   "id": "84f038c8",
   "metadata": {},
   "outputs": [
    {
     "name": "stdout",
     "output_type": "stream",
     "text": [
      "Hello \n",
      " World\n"
     ]
    }
   ],
   "source": [
    "print(\"Hello \\n World\")"
   ]
  },
  {
   "cell_type": "code",
   "execution_count": 24,
   "id": "288e4536",
   "metadata": {},
   "outputs": [
    {
     "name": "stdout",
     "output_type": "stream",
     "text": [
      "Hello \t World\n"
     ]
    }
   ],
   "source": [
    "print(\"Hello \\t World\")"
   ]
  },
  {
   "cell_type": "code",
   "execution_count": 25,
   "id": "f352372b",
   "metadata": {},
   "outputs": [
    {
     "name": "stdout",
     "output_type": "stream",
     "text": [
      "HelloHelloHelloHelloHello\n"
     ]
    }
   ],
   "source": [
    "print(\"Hello\" * 5)"
   ]
  },
  {
   "cell_type": "code",
   "execution_count": 26,
   "id": "b405df94",
   "metadata": {},
   "outputs": [
    {
     "name": "stdout",
     "output_type": "stream",
     "text": [
      "HelloWorld\n"
     ]
    }
   ],
   "source": [
    "print(\"Hello\" + \"World\")"
   ]
  },
  {
   "cell_type": "code",
   "execution_count": 27,
   "id": "ee5965c7",
   "metadata": {},
   "outputs": [
    {
     "ename": "TypeError",
     "evalue": "can only concatenate str (not \"int\") to str",
     "output_type": "error",
     "traceback": [
      "\u001b[1;31m---------------------------------------------------------------------------\u001b[0m",
      "\u001b[1;31mTypeError\u001b[0m                                 Traceback (most recent call last)",
      "Cell \u001b[1;32mIn[27], line 1\u001b[0m\n\u001b[1;32m----> 1\u001b[0m \u001b[38;5;28mprint\u001b[39m(\u001b[38;5;124m\"\u001b[39m\u001b[38;5;124mHello\u001b[39m\u001b[38;5;124m\"\u001b[39m \u001b[38;5;241m+\u001b[39m \u001b[38;5;241m5\u001b[39m)\n",
      "\u001b[1;31mTypeError\u001b[0m: can only concatenate str (not \"int\") to str"
     ]
    }
   ],
   "source": [
    "print(\"Hello\" + 5)"
   ]
  },
  {
   "cell_type": "code",
   "execution_count": 28,
   "id": "4ff9830e",
   "metadata": {},
   "outputs": [
    {
     "name": "stdout",
     "output_type": "stream",
     "text": [
      "9\n"
     ]
    }
   ],
   "source": [
    "print(4 + 5)"
   ]
  },
  {
   "cell_type": "code",
   "execution_count": 30,
   "id": "90dc4336",
   "metadata": {},
   "outputs": [
    {
     "name": "stdout",
     "output_type": "stream",
     "text": [
      "The Values are:  2 4 7\n"
     ]
    }
   ],
   "source": [
    "a,b,c = 2,4,7\n",
    "print(\"The Values are: \",a,b,c)"
   ]
  },
  {
   "cell_type": "code",
   "execution_count": 31,
   "id": "81e69e2a",
   "metadata": {},
   "outputs": [
    {
     "name": "stdout",
     "output_type": "stream",
     "text": [
      "The Values are: ,2,4,7\n"
     ]
    }
   ],
   "source": [
    "a,b,c = 2,4,7\n",
    "print(\"The Values are: \",a,b,c,sep=\",\")"
   ]
  },
  {
   "cell_type": "code",
   "execution_count": 32,
   "id": "5959c8b6",
   "metadata": {},
   "outputs": [
    {
     "name": "stdout",
     "output_type": "stream",
     "text": [
      "Hello Python "
     ]
    }
   ],
   "source": [
    "print(\"Hello\", end=' ')\n",
    "print(\"Python\", end=' ')"
   ]
  },
  {
   "cell_type": "code",
   "execution_count": 33,
   "id": "f4a54770",
   "metadata": {},
   "outputs": [
    {
     "name": "stdout",
     "output_type": "stream",
     "text": [
      "Language  Python  Experience is  4  Company is  SW\n"
     ]
    }
   ],
   "source": [
    "lang = \"Python\"\n",
    "exp = 4\n",
    "company = 'SW'\n",
    "print(\"Language \",lang,\" Experience is \",exp,\" Company is \", company)"
   ]
  },
  {
   "cell_type": "code",
   "execution_count": 35,
   "id": "dba29960",
   "metadata": {},
   "outputs": [
    {
     "name": "stdout",
     "output_type": "stream",
     "text": [
      "Company is sw and salary is 10000.500000 and experience is 5 years\n"
     ]
    }
   ],
   "source": [
    "# %i = int, %d = int, %f = float, %s = string\n",
    "exp = 5\n",
    "comp = 'sw'\n",
    "sal = 10000.50\n",
    "print(\"Company is %s and salary is %f and experience is %d years\" %(comp, sal, exp))"
   ]
  },
  {
   "cell_type": "code",
   "execution_count": 36,
   "id": "dda0db71",
   "metadata": {},
   "outputs": [
    {
     "name": "stdout",
     "output_type": "stream",
     "text": [
      "Enter company namesw\n",
      "Top fortune 500 company\n",
      "Mid level company\n"
     ]
    }
   ],
   "source": [
    "# Conditional statement\n",
    "\n",
    "company_name = input(\"Enter company name\")\n",
    "if company_name == \"sw\":\n",
    "    print(\"Top fortune 500 company\")\n",
    "print(\"Mid level company\")"
   ]
  },
  {
   "cell_type": "code",
   "execution_count": 37,
   "id": "19cdfada",
   "metadata": {},
   "outputs": [
    {
     "name": "stdout",
     "output_type": "stream",
     "text": [
      "Enter company namefacebook\n",
      "Mid level company\n"
     ]
    }
   ],
   "source": [
    "company_name1 = input(\"Enter company name\")\n",
    "if company_name1 == \"sw\":\n",
    "    print(\"Top fortune 500 company\")\n",
    "else:\n",
    "    print(\"Mid level company\")"
   ]
  },
  {
   "cell_type": "code",
   "execution_count": 39,
   "id": "00b96395",
   "metadata": {},
   "outputs": [
    {
     "name": "stdout",
     "output_type": "stream",
     "text": [
      "Enter company namefacebook\n",
      "Top fortune 100 company\n"
     ]
    }
   ],
   "source": [
    "company_name2 = input(\"Enter company name\")\n",
    "if company_name2 == \"sw\":\n",
    "    print(\"Top fortune 500 company\")\n",
    "elif company_name2 == \"facebook\":\n",
    "    print(\"Top fortune 100 company\")\n",
    "else:\n",
    "    print(\"Mid level company\")"
   ]
  },
  {
   "cell_type": "code",
   "execution_count": null,
   "id": "b4ea0cd7",
   "metadata": {},
   "outputs": [],
   "source": [
    "# Write a program to find biggest number of given 2 numbers \n",
    "# Write a program to find biggest number of given 3 numbers\n",
    "# Write a prgram to check whether the given number is in between 20 to 50\n",
    "# Write a program to take a single digit number from the keyboard and print its english word"
   ]
  }
 ],
 "metadata": {
  "kernelspec": {
   "display_name": "Python 3 (ipykernel)",
   "language": "python",
   "name": "python3"
  },
  "language_info": {
   "codemirror_mode": {
    "name": "ipython",
    "version": 3
   },
   "file_extension": ".py",
   "mimetype": "text/x-python",
   "name": "python",
   "nbconvert_exporter": "python",
   "pygments_lexer": "ipython3",
   "version": "3.11.3"
  }
 },
 "nbformat": 4,
 "nbformat_minor": 5
}
