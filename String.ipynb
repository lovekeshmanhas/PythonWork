{
 "cells": [
  {
   "cell_type": "code",
   "execution_count": 5,
   "id": "503ad2d8",
   "metadata": {},
   "outputs": [
    {
     "name": "stdout",
     "output_type": "stream",
     "text": [
      " This is ' ML class\n",
      " This is ' ML class\n",
      " This is \" ML class\n"
     ]
    }
   ],
   "source": [
    "# s1 = ' this is a 'ML class' -- Invalid\n",
    "s2 = ' This is \\' ML class'  \n",
    "s3 = \" This is ' ML class\"  \n",
    "s4 = ' This is \" ML class'  \n",
    "print(s2)\n",
    "print(s3)\n",
    "print(s4)"
   ]
  },
  {
   "cell_type": "code",
   "execution_count": 8,
   "id": "6b83a081",
   "metadata": {},
   "outputs": [
    {
     "name": "stdout",
     "output_type": "stream",
     "text": [
      "t\n",
      "h\n"
     ]
    },
    {
     "ename": "IndexError",
     "evalue": "string index out of range",
     "output_type": "error",
     "traceback": [
      "\u001b[1;31m---------------------------------------------------------------------------\u001b[0m",
      "\u001b[1;31mIndexError\u001b[0m                                Traceback (most recent call last)",
      "Cell \u001b[1;32mIn[8], line 4\u001b[0m\n\u001b[0;32m      2\u001b[0m \u001b[38;5;28mprint\u001b[39m(s1[\u001b[38;5;241m2\u001b[39m])\n\u001b[0;32m      3\u001b[0m \u001b[38;5;28mprint\u001b[39m(s1[\u001b[38;5;241m-\u001b[39m\u001b[38;5;241m3\u001b[39m])\n\u001b[1;32m----> 4\u001b[0m \u001b[38;5;28mprint\u001b[39m(s1[\u001b[38;5;241m-\u001b[39m\u001b[38;5;241m7\u001b[39m])\n",
      "\u001b[1;31mIndexError\u001b[0m: string index out of range"
     ]
    }
   ],
   "source": [
    "s1 = \"Python\"\n",
    "print(s1[2])\n",
    "print(s1[-3])\n",
    "print(s1[-7])"
   ]
  },
  {
   "cell_type": "code",
   "execution_count": 9,
   "id": "8b7c233c",
   "metadata": {},
   "outputs": [
    {
     "data": {
      "text/plain": [
       "'yt'"
      ]
     },
     "execution_count": 9,
     "metadata": {},
     "output_type": "execute_result"
    }
   ],
   "source": [
    "s1 = \"Python\"\n",
    "s1[1:3:1]"
   ]
  },
  {
   "cell_type": "code",
   "execution_count": 10,
   "id": "2845e76c",
   "metadata": {},
   "outputs": [
    {
     "data": {
      "text/plain": [
       "'Pto'"
      ]
     },
     "execution_count": 10,
     "metadata": {},
     "output_type": "execute_result"
    }
   ],
   "source": [
    "s1[0:6:2]"
   ]
  },
  {
   "cell_type": "code",
   "execution_count": 14,
   "id": "4b214c51",
   "metadata": {},
   "outputs": [
    {
     "data": {
      "text/plain": [
       "'nohtyP'"
      ]
     },
     "execution_count": 14,
     "metadata": {},
     "output_type": "execute_result"
    }
   ],
   "source": [
    "s1[::-1]"
   ]
  },
  {
   "cell_type": "code",
   "execution_count": 12,
   "id": "068e20bc",
   "metadata": {},
   "outputs": [
    {
     "data": {
      "text/plain": [
       "'Python'"
      ]
     },
     "execution_count": 12,
     "metadata": {},
     "output_type": "execute_result"
    }
   ],
   "source": [
    "s1[::]"
   ]
  },
  {
   "cell_type": "code",
   "execution_count": 16,
   "id": "b66d2941",
   "metadata": {},
   "outputs": [
    {
     "name": "stdout",
     "output_type": "stream",
     "text": [
      "Python Classes\n"
     ]
    }
   ],
   "source": [
    " print(\"Python \" + \"Classes\") "
   ]
  },
  {
   "cell_type": "code",
   "execution_count": 18,
   "id": "c6ebd3f3",
   "metadata": {},
   "outputs": [
    {
     "name": "stdout",
     "output_type": "stream",
     "text": [
      "Python Python Python Python \n"
     ]
    }
   ],
   "source": [
    "print(\"Python \" * 4)"
   ]
  },
  {
   "cell_type": "code",
   "execution_count": 19,
   "id": "9ed39a0c",
   "metadata": {},
   "outputs": [
    {
     "name": "stdout",
     "output_type": "stream",
     "text": [
      "14\n"
     ]
    }
   ],
   "source": [
    "s2 = \"Python classes\"\n",
    "print(len(s2))"
   ]
  },
  {
   "cell_type": "code",
   "execution_count": 20,
   "id": "7da03cc3",
   "metadata": {},
   "outputs": [],
   "source": [
    "# write a program to access each character of string in forward and backward direction by using while loop"
   ]
  },
  {
   "cell_type": "code",
   "execution_count": 22,
   "id": "d30d29e1",
   "metadata": {},
   "outputs": [
    {
     "name": "stdout",
     "output_type": "stream",
     "text": [
      "True\n",
      "False\n"
     ]
    }
   ],
   "source": [
    " s3 = \"Python classes\"\n",
    " print('o' in s3)\n",
    "print('f' in s3)"
   ]
  },
  {
   "cell_type": "code",
   "execution_count": 25,
   "id": "5621da7a",
   "metadata": {},
   "outputs": [
    {
     "name": "stdout",
     "output_type": "stream",
     "text": [
      "s1 is less than s2\n"
     ]
    }
   ],
   "source": [
    "s1 = \"Java\"\n",
    "s2 = \"Python\"\n",
    "if s1 == s2:\n",
    "    print(\"Both are equal\")\n",
    "elif s1<s2:\n",
    "    print(\"s1 is less than s2\")"
   ]
  },
  {
   "cell_type": "code",
   "execution_count": 32,
   "id": "74986090",
   "metadata": {
    "scrolled": true
   },
   "outputs": [
    {
     "name": "stdout",
     "output_type": "stream",
     "text": [
      "Python\n"
     ]
    }
   ],
   "source": [
    "s4 = \"      Python      \"\n",
    "print(s4.strip())"
   ]
  },
  {
   "cell_type": "code",
   "execution_count": 34,
   "id": "a30c9636",
   "metadata": {},
   "outputs": [
    {
     "name": "stdout",
     "output_type": "stream",
     "text": [
      "0\n",
      "-1\n",
      "8\n",
      "17\n",
      "17\n"
     ]
    }
   ],
   "source": [
    "# find ()\n",
    "s5 = \"Python is very easy\"\n",
    "print(s5.find(\"Python\")) #0\n",
    "print(s5.find(\"Java\"))  #\n",
    "print(s5.find(\"s\"))    #8\n",
    "print(s5.rfind(\"s\"))   #17\n",
    "print(s5.find(\"s\",9,18)) #17"
   ]
  },
  {
   "cell_type": "code",
   "execution_count": 36,
   "id": "1189e838",
   "metadata": {},
   "outputs": [
    {
     "name": "stdout",
     "output_type": "stream",
     "text": [
      "Enter main stringPython is very easy\n",
      "Enter sub stringJava\n",
      "sub string not found\n"
     ]
    }
   ],
   "source": [
    "# index() - its same as find() but if we specify substring which is not available in the main string then we will get valueerror\n",
    "\n",
    "s7 = input(\"Enter main string\")\n",
    "subs = input(\"Enter sub string\")\n",
    "try:\n",
    "    n = s7.index(subs)\n",
    "except ValueError:\n",
    "    print(\"sub string not found\")\n",
    "else:\n",
    "    print(\"substring found\")\n"
   ]
  },
  {
   "cell_type": "code",
   "execution_count": null,
   "id": "c85d4ab1",
   "metadata": {},
   "outputs": [],
   "source": [
    "# Program to display all positions of substring from a main string"
   ]
  }
 ],
 "metadata": {
  "kernelspec": {
   "display_name": "Python 3 (ipykernel)",
   "language": "python",
   "name": "python3"
  },
  "language_info": {
   "codemirror_mode": {
    "name": "ipython",
    "version": 3
   },
   "file_extension": ".py",
   "mimetype": "text/x-python",
   "name": "python",
   "nbconvert_exporter": "python",
   "pygments_lexer": "ipython3",
   "version": "3.11.3"
  }
 },
 "nbformat": 4,
 "nbformat_minor": 5
}
